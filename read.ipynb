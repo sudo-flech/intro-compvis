{
 "cells": [
  {
   "cell_type": "code",
   "execution_count": null,
   "metadata": {},
   "outputs": [],
   "source": [
    "import cv2 as cv"
   ]
  },
  {
   "cell_type": "code",
   "execution_count": null,
   "metadata": {},
   "outputs": [],
   "source": [
    "img = cv.imr ead('Resources/Photos/cat_large.jpg') # Devuelve la imagen como una matriz de pixeles\n",
    "\n",
    "cv.imshow('Cat', img) #Muestra la imagen. Params:(nombre de la ventana, imagen a mostrar)\n",
    "\n",
    "cv.waitKey(0) #Delay hasta que se presione una letra"
   ]
  },
  {
   "cell_type": "code",
   "execution_count": null,
   "metadata": {},
   "outputs": [],
   "source": []
  }
 ],
 "metadata": {
  "kernelspec": {
   "display_name": "Python 3",
   "language": "python",
   "name": "python3"
  },
  "language_info": {
   "name": "python",
   "version": "3.13.1"
  }
 },
 "nbformat": 4,
 "nbformat_minor": 2
}
